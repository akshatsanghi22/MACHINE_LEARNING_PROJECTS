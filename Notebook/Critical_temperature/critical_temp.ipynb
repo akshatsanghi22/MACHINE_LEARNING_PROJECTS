{
 "cells": [
  {
   "cell_type": "code",
   "execution_count": 4,
   "id": "d3125d31-a3b7-4122-8fdb-dde9eab3d482",
   "metadata": {},
   "outputs": [
    {
     "ename": "SyntaxError",
     "evalue": "invalid syntax (2755868291.py, line 3)",
     "output_type": "error",
     "traceback": [
      "\u001b[1;36m  Cell \u001b[1;32mIn[4], line 3\u001b[1;36m\u001b[0m\n\u001b[1;33m    pip install panda\u001b[0m\n\u001b[1;37m        ^\u001b[0m\n\u001b[1;31mSyntaxError\u001b[0m\u001b[1;31m:\u001b[0m invalid syntax\n"
     ]
    }
   ],
   "source": [
    "import pandas as pd\n",
    "import numpy as np\n"
   ]
  },
  {
   "cell_type": "code",
   "execution_count": null,
   "id": "ad9d734e-b366-41c6-8aa7-ae656d4a3ab2",
   "metadata": {},
   "outputs": [],
   "source": [
    "train_data = pd.read_csv(\"train.csv\")\n",
    "unique_data = pd.read_csv(\"unique_m.csv\")\n"
   ]
  },
  {
   "cell_type": "code",
   "execution_count": null,
   "id": "1c033805-3f16-47e9-aa09-cd816e801a3b",
   "metadata": {},
   "outputs": [],
   "source": [
    "train_data"
   ]
  },
  {
   "cell_type": "code",
   "execution_count": null,
   "id": "ff71673a-3a78-4d76-9b43-5dfa75ac2266",
   "metadata": {},
   "outputs": [],
   "source": [
    "train_data.head()"
   ]
  },
  {
   "cell_type": "code",
   "execution_count": null,
   "id": "b7e2656e-d62e-4a7e-aa21-348e2c7b8e99",
   "metadata": {},
   "outputs": [],
   "source": [
    "unique_data.head()"
   ]
  },
  {
   "cell_type": "code",
   "execution_count": null,
   "id": "28c093a5-b86a-4273-8107-36d666677395",
   "metadata": {},
   "outputs": [],
   "source": [
    "train_data.shape"
   ]
  },
  {
   "cell_type": "code",
   "execution_count": null,
   "id": "86599239-f5a2-4d4d-bc58-07f1d8378d5e",
   "metadata": {},
   "outputs": [],
   "source": [
    "train_data.info()"
   ]
  },
  {
   "cell_type": "code",
   "execution_count": null,
   "id": "9405a7cc-abe5-4494-9c8a-c10a9331c030",
   "metadata": {},
   "outputs": [],
   "source": [
    "train_data.isnull().sum()"
   ]
  },
  {
   "cell_type": "code",
   "execution_count": null,
   "id": "14113351-c827-413b-b9d8-2075fb1611a4",
   "metadata": {},
   "outputs": [],
   "source": [
    "unique_data.info()"
   ]
  },
  {
   "cell_type": "code",
   "execution_count": null,
   "id": "1b47d76e-bda2-4d3d-bcd5-91bdc9ac485c",
   "metadata": {},
   "outputs": [],
   "source": [
    "unique_data.isnull().sum()"
   ]
  },
  {
   "cell_type": "code",
   "execution_count": null,
   "id": "8fe018f3-da37-40ac-bc83-a78f42cdf222",
   "metadata": {},
   "outputs": [],
   "source": [
    "train_data.info()"
   ]
  },
  {
   "cell_type": "code",
   "execution_count": null,
   "id": "e3b010bd-18f0-4a82-a809-6f83bfec87dd",
   "metadata": {},
   "outputs": [],
   "source": [
    "train_data.apply(pd.isnull()).sum()"
   ]
  },
  {
   "cell_type": "code",
   "execution_count": null,
   "id": "27dc3b08-c734-4606-ad75-72001beb9d9a",
   "metadata": {},
   "outputs": [],
   "source": [
    "train_data.isnull().sum()\n"
   ]
  },
  {
   "cell_type": "code",
   "execution_count": null,
   "id": "870e9214-bf81-4b65-b71a-9622b3005b50",
   "metadata": {},
   "outputs": [],
   "source": [
    "train_data.info()"
   ]
  },
  {
   "cell_type": "code",
   "execution_count": null,
   "id": "907ab5e9-24a7-476a-ae84-a5b9ae7d6c3b",
   "metadata": {},
   "outputs": [],
   "source": [
    "unique_data.info()"
   ]
  },
  {
   "cell_type": "code",
   "execution_count": null,
   "id": "151b2de1-1742-48ed-b628-8dc4ee06bbbd",
   "metadata": {},
   "outputs": [],
   "source": [
    "X = train_data.drop(columns=['critical_temp'])\n",
    "y = train_data['critical_temp']"
   ]
  },
  {
   "cell_type": "code",
   "execution_count": null,
   "id": "144c02f8-6f47-4f1d-aba2-0769781dd4f9",
   "metadata": {},
   "outputs": [],
   "source": [
    "X"
   ]
  },
  {
   "cell_type": "code",
   "execution_count": null,
   "id": "097f5a6d-9ec3-45e7-94db-aba5e185550d",
   "metadata": {},
   "outputs": [],
   "source": [
    "from sklearn.model_selection import train_test_split\n",
    "\n",
    "X_train, X_test, y_train, y_test = train_test_split(X, y, test_size=0.2, random_state=42)"
   ]
  },
  {
   "cell_type": "code",
   "execution_count": null,
   "id": "e2391766-1cb9-4141-b125-8a1202673e59",
   "metadata": {},
   "outputs": [],
   "source": [
    "X_train"
   ]
  },
  {
   "cell_type": "code",
   "execution_count": null,
   "id": "b53b86bd-eee0-474e-afc5-09fcb0571296",
   "metadata": {},
   "outputs": [],
   "source": [
    "from sklearn.linear_model import LinearRegression  \n",
    "\n",
    "# Initialize the model\n",
    "model = LinearRegression()  \n",
    "\n",
    "# Train the model\n",
    "model.fit(X_train, y_train)\n"
   ]
  },
  {
   "cell_type": "code",
   "execution_count": null,
   "id": "478b7435-d7ac-4b45-9bd2-b0f9f634224e",
   "metadata": {},
   "outputs": [],
   "source": [
    "from sklearn.metrics import mean_absolute_error, mean_squared_error, r2_score\n",
    "\n",
    "y_pred = model.predict(X_test)\n",
    "\n",
    "mae = mean_absolute_error(y_test, y_pred)\n",
    "mse = mean_squared_error(y_test, y_pred)\n",
    "r2 = r2_score(y_test, y_pred)\n",
    "\n",
    "print(f\"MAE: {mae}\")\n",
    "print(f\"MSE: {mse}\")\n",
    "print(f\"R-squared: {r2}\")\n"
   ]
  },
  {
   "cell_type": "code",
   "execution_count": null,
   "id": "359d3e98-8e84-4ca6-93ec-16d0e964a0b9",
   "metadata": {},
   "outputs": [],
   "source": [
    "new_data_point = X_test.iloc[2] \n",
    "predicted_tc = model.predict([new_data_point])\n",
    "print(f\"Predicted Critical Temperature: {predicted_tc[0]}\")\n"
   ]
  },
  {
   "cell_type": "code",
   "execution_count": null,
   "id": "97f29e82-eb62-42ec-9f06-3cb863fa9e88",
   "metadata": {},
   "outputs": [],
   "source": [
    "predicted_tc\n",
    "\n",
    "                       "
   ]
  },
  {
   "cell_type": "raw",
   "id": "683e783a-72c4-472d-bc01-2143dcf428d9",
   "metadata": {},
   "source": []
  },
  {
   "cell_type": "code",
   "execution_count": null,
   "id": "9aaecd23-5f09-4f93-a34e-138d18480abf",
   "metadata": {},
   "outputs": [],
   "source": [
    "import matplotlib.pyplot as plt\n",
    "\n",
    "# Assuming you have the \"train_data\" DataFrame with both original and predicted critical temperatures\n",
    "original_critical_temp = train_data['critical_temp']\n",
    "predicted_critical_temp = predicted_tc\n",
    "\n",
    "# Create a scatter plot\n",
    "plt.figure(figsize=(10, 6))\n",
    "plt.scatter(original_critical_temp, predicted_critical_temp, alpha=0.5)\n",
    "plt.title('Original vs. Predicted Critical Temperature')\n",
    "plt.xlabel('Original Critical Temperature')\n",
    "plt.ylabel('Predicted Critical Temperature')\n",
    "plt.grid(True)\n",
    "\n",
    "# Add a diagonal line for reference (perfect predictions)\n",
    "plt.plot([min(original_critical_temp), max(original_critical_temp)], [min(original_critical_temp), max(original_critical_temp)], linestyle='--', color='red', linewidth=2)\n",
    "\n",
    "plt.show()\n"
   ]
  },
  {
   "cell_type": "code",
   "execution_count": null,
   "id": "bcd95331-b8c0-45c7-873a-d18959a5154f",
   "metadata": {},
   "outputs": [],
   "source": [
    "train_data"
   ]
  },
  {
   "cell_type": "code",
   "execution_count": null,
   "id": "b265f432-b0e4-4a3b-b123-9c78b8a380de",
   "metadata": {},
   "outputs": [],
   "source": [
    "dim(train_data)"
   ]
  },
  {
   "cell_type": "code",
   "execution_count": null,
   "id": "e1a2df6e-235d-4379-9566-9259c931cfde",
   "metadata": {},
   "outputs": [],
   "source": [
    "\n",
    "library(ISLR)\n",
    "library(ggplot2)\n",
    "library(GGally)\n",
    "library(gridExtra)\n",
    "library(cowplot)\n",
    "library(psych)\n",
    "library('car')\n",
    "library('corrplot')\n",
    "library('mgcv')"
   ]
  },
  {
   "cell_type": "code",
   "execution_count": null,
   "id": "daaf7d7d-e21c-4e31-b2a6-0a0a143b24bc",
   "metadata": {},
   "outputs": [],
   "source": [
    "\n",
    "pip install ggplot2\n"
   ]
  },
  {
   "cell_type": "code",
   "execution_count": null,
   "id": "a0849921-2a52-45dc-a8cb-5b312d2d6169",
   "metadata": {},
   "outputs": [],
   "source": [
    "%load_ext rpy2.ipython\n",
    "\n",
    "%%R\n",
    "library(ISLR)\n",
    "library(ggplot2)\n",
    "library(GGally)\n",
    "library(gridExtra)\n",
    "library(cowplot)\n",
    "library(psych)\n",
    "library(car)\n",
    "library(corrplot)\n",
    "library(mgcv)"
   ]
  },
  {
   "cell_type": "code",
   "execution_count": null,
   "id": "df6ac8e2-be00-44a1-aeb7-6089b77f9df1",
   "metadata": {},
   "outputs": [],
   "source": [
    "pip install rpy2"
   ]
  },
  {
   "cell_type": "code",
   "execution_count": null,
   "id": "f10b9bb8-622e-47d1-ab88-4fb4df608ea7",
   "metadata": {},
   "outputs": [],
   "source": [
    "%load_ext rpy2.ipython\n",
    "\n",
    "%%R\n",
    "library(ISLR)\n",
    "library(ggplot2)\n",
    "library(GGally)\n",
    "library(gridExtra)\n",
    "library(cowplot)\n",
    "library(psych)\n",
    "library(car)\n",
    "library(corrplot)\n",
    "library(mgcv)"
   ]
  },
  {
   "cell_type": "code",
   "execution_count": null,
   "id": "a3da0a2f-45f4-4628-beff-78e2ee1e500d",
   "metadata": {},
   "outputs": [],
   "source": []
  },
  {
   "cell_type": "code",
   "execution_count": null,
   "id": "a4927aa7-2dc7-462a-a2c1-bfbc5207b4a4",
   "metadata": {},
   "outputs": [],
   "source": []
  }
 ],
 "metadata": {
  "kernelspec": {
   "display_name": "Python 3 (ipykernel)",
   "language": "python",
   "name": "python3"
  },
  "language_info": {
   "codemirror_mode": {
    "name": "ipython",
    "version": 3
   },
   "file_extension": ".py",
   "mimetype": "text/x-python",
   "name": "python",
   "nbconvert_exporter": "python",
   "pygments_lexer": "ipython3",
   "version": "3.11.5"
  }
 },
 "nbformat": 4,
 "nbformat_minor": 5
}
